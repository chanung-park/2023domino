{
 "cells": [
  {
   "cell_type": "code",
   "execution_count": 3,
   "metadata": {},
   "outputs": [],
   "source": [
    "\n",
    "from pennylane import numpy as np\n",
    "import pennylane as qml"
   ]
  },
  {
   "cell_type": "code",
   "execution_count": 4,
   "metadata": {},
   "outputs": [],
   "source": [
    "\n",
    "def eXYmXY(theta, wires):\n",
    "    I  = np.eye(2)\n",
    "    X = qml.matrix(qml.RX(np.pi, wires = 0 ))\n",
    "    Y = qml.matrix(qml.RY(np.pi, wires = 0 ))\n",
    "    Z = qml.matrix(qml.RZ(np.pi, wires = 0 ))\n",
    "    m = (np.kron(X, I)@np.kron(I, Y)-np.kron(Y,I)@np.kron(I, X))/2\n",
    "\n",
    "    d, V = np.linalg.eig(m)\n",
    "    U = V @np.diag( np.exp(-(0+1j)*theta*d))@ np.linalg.inv(V)\n",
    "    qml.QUbitUnitary(U, wires = wires )\n",
    "def eYZmZY(theta, wires):\n",
    "    I  = np.eye(2)\n",
    "    X = qml.matrix(qml.RX(np.pi, wires = 0 ))\n",
    "    Y = qml.matrix(qml.RY(np.pi, wires = 0 ))\n",
    "    Z = qml.matrix(qml.RZ(np.pi, wires = 0 ))\n",
    "    m = (np.kron(Y, I)@np.kron(I, Z)-np.kron(Z,I)@np.kron(I, Y))/2\n",
    "\n",
    "    d, V = np.linalg.eig(m)\n",
    "    U = V @np.diag( np.exp(-(0+1j)*theta*d))@ np.linalg.inv(V)\n",
    "    qml.QUbitUnitary(U, wires = wires )\n",
    "    \n",
    "def eZXmXZ(theta, wires):\n",
    "    I  = np.eye(2)\n",
    "    X = qml.matrix(qml.RX(np.pi, wires = 0 ))\n",
    "    Y = qml.matrix(qml.RY(np.pi, wires = 0 ))\n",
    "    Z = qml.matrix(qml.RZ(np.pi, wires = 0 ))\n",
    "    m = (np.kron(Z, I)@np.kron(I, X)-np.kron(X,I)@np.kron(I, Z))/2\n",
    "\n",
    "    d, V = np.linalg.eig(m)\n",
    "    U = V @np.diag( np.exp(-(0+1j)*theta*d))@ np.linalg.inv(V)\n",
    "    qml.QUbitUnitary(U, wires = wires )\n",
    "\n",
    "def generator_3(theta): \n",
    "    \n",
    "    pass \n",
    "\n",
    "def eXXpYYpZZ(theta, wires):\n",
    "    # wires = [0,1]\n",
    "    # print('theta:', theta)\n",
    "    qml.CNOT(wires = wires)\n",
    "    qml.RZ(theta, wires = wires[1])\n",
    "    qml.CNOT(wires=wires)   \n",
    "    qml.RY(np.pi/2, wires= wires[0])\n",
    "    qml.RZ(np.pi/2, wires= wires[1])\n",
    "    qml.CNOT(wires = wires)\n",
    "    qml.RY(theta, wires= wires[0])\n",
    "    qml.RY(theta, wires= wires[1])\n",
    "    qml.CNOT(wires = wires)\n",
    "    qml.RY(-np.pi/2, wires= wires[0])\n",
    "    qml.RZ(-np.pi/2, wires= wires[1]) \n",
    "    qml.RZ(theta, wires= wires[0])\n",
    "    qml.RZ(theta, wires= wires[1])\n",
    "    \n",
    "def eM3(theta, wires):\n",
    "    U = np.array([[0,0,0,0], [0,np.exp(-1j*theta),0,0],[0,0,-np.exp(1j*theta),0],[0,0,0,0]])\n",
    "    qml.QubitUnitary(U, wires= wires)\n"
   ]
  },
  {
   "cell_type": "code",
   "execution_count": 26,
   "metadata": {},
   "outputs": [],
   "source": [
    "def find_groundstate(N, p, state_circuit, H, max_iterations = 300, conv_tol = 1e-06, param = None, lr = 0.4):\n",
    "    # call device \n",
    "    dev = qml.device(\"default.qubit\", wires = N )\n",
    "    \n",
    "    #define cost function find expectation value of Hamiltonian which is energy for parametrized state \n",
    "    @qml.qnode(dev, interface='autograd')\n",
    "    \n",
    "    def cost_fn(param):\n",
    "        state_circuit(param*np.pi, w = range(N))\n",
    "        return qml.expval(H)\n",
    "    # define optimizer\n",
    "    opt = qml.GradientDescentOptimizer(stepsize = lr)\n",
    "    \n",
    "    # start with random parameter \n",
    "    # if param is None: \n",
    "    param = np.random.randn(p, 3, N, requires_grad = True) # size is define through state circuit \n",
    "\n",
    "    energy = [cost_fn(param)]\n",
    "    for n in range(max_iterations):\n",
    "        param, prev_energy = opt.step_and_cost(cost_fn, param)\n",
    "        # print(param)\n",
    "        energy.append(cost_fn(param))\n",
    "        conv = np.abs(energy[-1]-prev_energy)\n",
    "        # print(n)\n",
    "        if n%20 ==0 : \n",
    "            print(f\"current energy{energy[-1]:.8f}\")\n",
    "        if  conv <= conv_tol:\n",
    "            print(\"conserved\")\n",
    "            break\n",
    "    return energy, param\n"
   ]
  },
  {
   "cell_type": "code",
   "execution_count": 38,
   "metadata": {},
   "outputs": [
    {
     "name": "stdout",
     "output_type": "stream",
     "text": [
      "  (1.0) [X0 X1]\n",
      "+ (1.0) [X1 X2]\n",
      "+ (1.0) [X2 X3]\n",
      "+ (1.0) [X3 X4]\n",
      "+ (1.0) [X4 X5]\n",
      "+ (1.0) [X5 X6]\n",
      "+ (1.0) [X6 X0]\n",
      "+ (1.0) [Y0 Y1]\n",
      "+ (1.0) [Y1 Y2]\n",
      "+ (1.0) [Y2 Y3]\n",
      "+ (1.0) [Y3 Y4]\n",
      "+ (1.0) [Y4 Y5]\n",
      "+ (1.0) [Y5 Y6]\n",
      "+ (1.0) [Y6 Y0]\n",
      "+ (1.0) [Z0 Z1]\n",
      "+ (1.0) [Z1 Z2]\n",
      "+ (1.0) [Z2 Z3]\n",
      "+ (1.0) [Z3 Z4]\n",
      "+ (1.0) [Z4 Z5]\n",
      "+ (1.0) [Z5 Z6]\n",
      "+ (1.0) [Z6 Z0]\n"
     ]
    }
   ],
   "source": [
    "N = 7\n",
    "p = 6\n",
    "# Hamiltonian definition H = sum_i (- Z_i * Z_{i+1})\n",
    "def generate_Hamiltonian(N):\n",
    "    coeffs = 1 * np.ones((N*3,))\n",
    "    obs = [qml.PauliX(i)@qml.PauliX(i+1) for i in range(N-1)]\n",
    "    obs.append(qml.PauliX(N-1)@qml.PauliX(0))\n",
    "    obs = obs+[qml.PauliY(i)@qml.PauliY(i+1) for i in range(N-1)]\n",
    "    obs.append(qml.PauliY(N-1)@qml.PauliY(0))\n",
    "    obs = obs+[qml.PauliZ(i)@qml.PauliZ(i+1) for i in range(N-1)]\n",
    "    obs.append(qml.PauliZ(N-1)@qml.PauliZ(0))\n",
    "    \n",
    "    H = qml.Hamiltonian(coeffs, obs)\n",
    "    print(H)\n",
    "    return H \n",
    "\n",
    "H = generate_Hamiltonian(N)\n",
    "\n",
    "def Pcircuit(param, # p X (N+N) thetas and phis  \n",
    "            w #wires list \n",
    "            ):\n",
    "    \n",
    "    # print(param.shape)\n",
    "    p = len(param)\n",
    "    # (p, _)  = param.shape\n",
    "    N = len(w)\n",
    "    # parametrized circuit with depth p \n",
    "    # state \n",
    "    for i in range(N):\n",
    "        qml.Hadamard(wires = w[i])\n",
    "    for step in range(p):\n",
    "        # print(\"p\", step)\n",
    "        for i in range(N):  \n",
    "            qml.RX(param[step, 0, i], wires = w[i]) # exp(-i X phi/2)\n",
    "            qml.RZ(param[step, 1, i], wires = w[i])\n",
    "            # print('single')\n",
    "        for i in range(N-1):\n",
    "            # print('two')\n",
    "            eXXpYYpZZ(param[step, 2, i], wires = w[i: i+2])\n",
    "            \n",
    "        eXXpYYpZZ(param[step, 2, N-1],wires = [w[N-1], w[0]])\n",
    "        \n"
   ]
  },
  {
   "cell_type": "code",
   "execution_count": 47,
   "metadata": {},
   "outputs": [
    {
     "name": "stdout",
     "output_type": "stream",
     "text": [
      "current energy0.45639648\n",
      "current energy-5.51772204\n",
      "current energy-7.38503728\n",
      "current energy-8.36560887\n",
      "current energy-8.96286868\n",
      "current energy-9.32978690\n",
      "current energy-9.59447732\n",
      "current energy-9.80879049\n",
      "current energy-9.98123090\n",
      "current energy-10.11298491\n",
      "current energy-10.21098635\n",
      "current energy-10.28540865\n",
      "current energy-10.34486622\n",
      "current energy-10.39500545\n",
      "current energy-10.43918145\n",
      "current energy-10.47936229\n",
      "current energy-10.51671342\n",
      "current energy-10.55190862\n",
      "current energy-10.58528969\n",
      "current energy-10.61695803\n",
      "current energy-10.64684553\n",
      "current energy-10.67478729\n",
      "current energy-10.70059870\n",
      "current energy-10.72414516\n",
      "current energy-10.74538858\n",
      "current energy-10.76440136\n",
      "current energy-10.78135041\n",
      "current energy-10.79646368\n",
      "current energy-10.80999348\n",
      "current energy-10.82218686\n",
      "current energy-10.83326696\n",
      "current energy-10.84342454\n",
      "current energy-10.85281664\n",
      "current energy-10.86156935\n",
      "current energy-10.86978227\n",
      "current energy-10.87753317\n",
      "current energy-10.88488241\n",
      "current energy-10.89187657\n",
      "current energy-10.89855152\n",
      "current energy-10.90493485\n"
     ]
    }
   ],
   "source": [
    "energy_list, param = find_groundstate(N, p, Pcircuit, H, max_iterations=800,conv_tol = 10**(-6), lr = 0.001)"
   ]
  },
  {
   "cell_type": "code",
   "execution_count": 44,
   "metadata": {},
   "outputs": [],
   "source": [
    "import scipy\n",
    "Hmat = qml.utils.sparse_hamiltonian(H)\n",
    "d, _ = scipy.sparse.linalg.eigs(Hmat)\n",
    "E_g = np.min(d)"
   ]
  },
  {
   "cell_type": "code",
   "execution_count": 45,
   "metadata": {},
   "outputs": [
    {
     "data": {
      "text/plain": [
       "(-11.420717027386845-3.053017536296031e-16j)"
      ]
     },
     "execution_count": 45,
     "metadata": {},
     "output_type": "execute_result"
    }
   ],
   "source": [
    "E_g"
   ]
  },
  {
   "cell_type": "code",
   "execution_count": 50,
   "metadata": {},
   "outputs": [
    {
     "name": "stderr",
     "output_type": "stream",
     "text": [
      "/home/iqsl/anaconda3/envs/domino/lib/python3.10/site-packages/matplotlib/cbook/__init__.py:1335: ComplexWarning: Casting complex values to real discards the imaginary part\n",
      "  return np.asarray(x, float)\n"
     ]
    },
    {
     "data": {
      "text/plain": [
       "<matplotlib.legend.Legend at 0x7fb568204160>"
      ]
     },
     "execution_count": 50,
     "metadata": {},
     "output_type": "execute_result"
    },
    {
     "data": {
      "image/png": "[encoded data removed]",
      "text/plain": [
       "<Figure size 640x480 with 1 Axes>"
      ]
     },
     "metadata": {},
     "output_type": "display_data"
    }
   ],
   "source": [
    "# p = 6 num of electrons = 6 \n",
    "\n",
    "plt.rcParams['font.family'] = 'Times New Roman'\n",
    "plt.plot(energy_list, '-o', c= 'red', label ='Energy')\n",
    "plt.axhline(y = E_g, c = 'k', linestyle = '--', label = '$E_G$')\n",
    "plt.xlabel('iteration', fontsize = 15)\n",
    "plt.ylabel('Energy [HA]', fontsize = 15)\n",
    "plt.legend(frameon=False)\n",
    "# plt.plot(energy_list, '-o')\n",
    "# plt.axhline(y = E_g, c = 'k', linestyle = '--')"
   ]
  },
  {
   "cell_type": "code",
   "execution_count": null,
   "metadata": {},
   "outputs": [
    {
     "data": {
      "text/plain": [
       "<matplotlib.lines.Line2D at 0x7fb56834cb50>"
      ]
     },
     "metadata": {},
     "output_type": "display_data"
    },
    {
     "data": {
      "image/png": "[encoded data removed]",
      "text/plain": [
       "<Figure size 640x480 with 1 Axes>"
      ]
     },
     "metadata": {},
     "output_type": "display_data"
    }
   ],
   "source": [
    "# p = 6 num of electrons = 6 \n",
    "plt.plot(energy_list, '-o')\n",
    "plt.axhline(y = E_g, c = 'k', linestyle = '--')"
   ]
  },
  {
   "cell_type": "code",
   "execution_count": null,
   "metadata": {},
   "outputs": [],
   "source": []
  },
  {
   "cell_type": "code",
   "execution_count": null,
   "metadata": {},
   "outputs": [],
   "source": []
  }
 ],
 "metadata": {
  "kernelspec": {
   "display_name": "domino",
   "language": "python",
   "name": "python3"
  },
  "language_info": {
   "codemirror_mode": {
    "name": "ipython",
    "version": 3
   },
   "file_extension": ".py",
   "mimetype": "text/x-python",
   "name": "python",
   "nbconvert_exporter": "python",
   "pygments_lexer": "ipython3",
   "version": "3.10.11"
  },
  "orig_nbformat": 4
 },
 "nbformat": 4,
 "nbformat_minor": 2
}
