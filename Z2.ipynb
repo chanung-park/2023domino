{
 "cells": [
  {
   "cell_type": "code",
   "execution_count": 1,
   "metadata": {},
   "outputs": [],
   "source": [
    "from pennylane import numpy as np\n",
    "import pennylane as qml \n",
    "from Z2 import * "
   ]
  },
  {
   "cell_type": "code",
   "execution_count": 13,
   "metadata": {},
   "outputs": [
    {
     "name": "stdout",
     "output_type": "stream",
     "text": [
      "  (-1.0) [Z0 Z1]\n",
      "+ (-1.0) [Z1 Z2]\n",
      "+ (-1.0) [Z2 Z0]\n"
     ]
    }
   ],
   "source": [
    "N = 3\n",
    "p = 2\n",
    "\n",
    "# variational circuit for state \n",
    "def circuit(param, # p X (N+N) thetas and phis  \n",
    "            w #wires list \n",
    "            ):\n",
    "    (p, _)  = param.shape\n",
    "    N = len(w)\n",
    "    # prepare |+> state with Hadamard gate \n",
    "    for i in range(N):\n",
    "        qml.Hadamard(wires = w[i])\n",
    "    # parametrized circuit with depth p \n",
    "    for step in range(p):\n",
    "        for i in range(N):\n",
    "            qml.RX(param[step, i], wires = w[i]) # exp(-i X phi/2)\n",
    "        for i in range(N-1):\n",
    "            qml.CNOT(wires = w[i: i+2])\n",
    "            qml.RZ(param[step, i], wires = w[i+1])\n",
    "            qml.CNOT(wires = w[i: i+2])\n",
    "        qml.CNOT(wires = [w[N-1], w[0]])\n",
    "        qml.RZ(param[step, N-1], wires = w[N-1])\n",
    "        qml.CNOT(wires = [w[N-1], w[0]])\n",
    "\n",
    "    # return qml.probs(wires = w)\n",
    "\n",
    "H = generate_Hamiltonian(N)\n",
    "    \n",
    "energy_list, param = find_groundstate(N, p, circuit, H)\n"
   ]
  },
  {
   "cell_type": "code",
   "execution_count": 15,
   "metadata": {},
   "outputs": [
    {
     "name": "stdout",
     "output_type": "stream",
     "text": [
      "['|000>', '|001>', '|010>', '|011>', '|100>', '|101>', '|110>', '|111>']\n"
     ]
    },
    {
     "data": {
      "image/png": "[encoded data removed]",
      "text/plain": [
       "<Figure size 640x480 with 1 Axes>"
      ]
     },
     "metadata": {},
     "output_type": "display_data"
    }
   ],
   "source": [
    "def circuit2(param, w): \n",
    "    circuit(param, w)\n",
    "    return qml.probs(w)\n",
    "dev = qml.device(\"default.qubit\", wires = N)\n",
    "qnode = qml.QNode(circuit2, dev)\n",
    "probs = qnode(param, range(N)).numpy()\n",
    "plt.bar(range(2**N), probs) \n",
    "x_tick_num = np.arange(2**N, step = 2**(0))\n",
    "x_ticks = [\"|\"+str(format(i, '0'+str(N)+'b'))+\">\" for i in x_tick_num]\n",
    "print(x_ticks)\n",
    "plt.xticks(x_tick_num, labels = x_ticks, rotation = 45)\n",
    "plt.xlabel('state')\n",
    "plt.ylabel('probs')\n",
    "# plt.axis([0, 31, 0, 1])\n",
    "plt.show()"
   ]
  },
  {
   "cell_type": "code",
   "execution_count": null,
   "metadata": {},
   "outputs": [],
   "source": []
  },
  {
   "cell_type": "code",
   "execution_count": null,
   "metadata": {},
   "outputs": [],
   "source": []
  }
 ],
 "metadata": {
  "kernelspec": {
   "display_name": "Python 3.10.11 ('domino')",
   "language": "python",
   "name": "python3"
  },
  "language_info": {
   "codemirror_mode": {
    "name": "ipython",
    "version": 3
   },
   "file_extension": ".py",
   "mimetype": "text/x-python",
   "name": "python",
   "nbconvert_exporter": "python",
   "pygments_lexer": "ipython3",
   "version": "3.10.11"
  },
  "orig_nbformat": 4,
  "vscode": {
   "interpreter": {
    "hash": "31eb509440305b4ce17d152b5260c4ff100796c11d3e74e9b7f541f3e96aa3b6"
   }
  }
 },
 "nbformat": 4,
 "nbformat_minor": 2
}
